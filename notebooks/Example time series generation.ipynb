{
 "cells": [
  {
   "cell_type": "markdown",
   "metadata": {},
   "source": [
    "# Self-shading of two-axis tracking collectors\n",
    "\n",
    "This document explains how to use the open-source code developed Adam R. Jensen for calculating self-shading of two-axis tracking solar collectors.\n",
    "\n",
    "Import necessary packages:"
   ]
  },
  {
   "cell_type": "code",
   "execution_count": 1,
   "metadata": {},
   "outputs": [],
   "source": [
    "import pandas as pd\n",
    "# The following libraries are not standard and has to be installed seperately.\n",
    "# It is recommended to install shapely using conda.\n",
    "import pvlib\n",
    "from shapely import geometry"
   ]
  },
  {
   "cell_type": "markdown",
   "metadata": {},
   "source": [
    "In order to import the shading functions from the file *\"two_axis_tracker_shading.py\"*, the file has to be located in the current working directory. Therefore, before loading the module the current working directory should be changed to the correct folder:"
   ]
  },
  {
   "cell_type": "code",
   "execution_count": 2,
   "metadata": {},
   "outputs": [],
   "source": [
    "import os\n",
    "os.chdir('C:/users/arajen/documents/github/twoaxistracking/')\n",
    "import two_axis_tracker_shading as shading"
   ]
  },
  {
   "cell_type": "markdown",
   "metadata": {},
   "source": [
    "<br>\n",
    "\n",
    "Now, the first step is to define the location/site for where shading is to be calculated. The location is used to determine the solar position in the next steps."
   ]
  },
  {
   "cell_type": "code",
   "execution_count": 3,
   "metadata": {},
   "outputs": [
    {
     "name": "stderr",
     "output_type": "stream",
     "text": [
      "C:\\Users\\arajen\\Anaconda3\\lib\\site-packages\\pvlib\\location.py:84: pvlibDeprecationWarning: Arbitrary Location kwargs are deprecated and will be removed in v0.9\n",
      "  warnings.warn(\n"
     ]
    }
   ],
   "source": [
    "location = pvlib.location.Location(latitude=54.9788, longitude=12.2666, elevation=100)"
   ]
  },
  {
   "cell_type": "markdown",
   "metadata": {},
   "source": [
    "<br>\n",
    "\n",
    "The second step involves determining the series of time steps for which shading shall be calculated for. Generally the time series should cover one year (preferably not a leap year).\n",
    "\n",
    "The most **important parameter is the frequency**, e.g., '1min', '15min', '1hr', which determines the number of time steps.\n",
    "\n",
    "It is also important to set the timezone as this effects the calculation of the solar position. It can be recommended to keep all data in UTC to avoid mix-ups."
   ]
  },
  {
   "cell_type": "code",
   "execution_count": 4,
   "metadata": {},
   "outputs": [],
   "source": [
    "times = pd.date_range(\n",
    "    start='2019-1-1 00:00',\n",
    "    end='2019-12-31 23:59',\n",
    "    freq='15min',  # Edit the frequecy for a finer or coarser time step\n",
    "    tz='UTC')"
   ]
  },
  {
   "cell_type": "markdown",
   "metadata": {},
   "source": [
    "Next, the solar position is calculated from the location for each of the time periods using the `pvlib` package:"
   ]
  },
  {
   "cell_type": "code",
   "execution_count": 5,
   "metadata": {},
   "outputs": [
    {
     "data": {
      "text/html": [
       "<div>\n",
       "<style scoped>\n",
       "    .dataframe tbody tr th:only-of-type {\n",
       "        vertical-align: middle;\n",
       "    }\n",
       "\n",
       "    .dataframe tbody tr th {\n",
       "        vertical-align: top;\n",
       "    }\n",
       "\n",
       "    .dataframe thead th {\n",
       "        text-align: right;\n",
       "    }\n",
       "</style>\n",
       "<table border=\"1\" class=\"dataframe\">\n",
       "  <thead>\n",
       "    <tr style=\"text-align: right;\">\n",
       "      <th></th>\n",
       "      <th>apparent_zenith</th>\n",
       "      <th>zenith</th>\n",
       "      <th>apparent_elevation</th>\n",
       "      <th>elevation</th>\n",
       "      <th>azimuth</th>\n",
       "      <th>equation_of_time</th>\n",
       "    </tr>\n",
       "  </thead>\n",
       "  <tbody>\n",
       "    <tr>\n",
       "      <th>2019-01-01 00:00:00+00:00</th>\n",
       "      <td>146.937480</td>\n",
       "      <td>146.937480</td>\n",
       "      <td>-56.937480</td>\n",
       "      <td>-56.937480</td>\n",
       "      <td>19.592191</td>\n",
       "      <td>-3.195874</td>\n",
       "    </tr>\n",
       "    <tr>\n",
       "      <th>2019-01-01 00:15:00+00:00</th>\n",
       "      <td>146.108706</td>\n",
       "      <td>146.108706</td>\n",
       "      <td>-56.108706</td>\n",
       "      <td>-56.108706</td>\n",
       "      <td>25.665116</td>\n",
       "      <td>-3.200828</td>\n",
       "    </tr>\n",
       "    <tr>\n",
       "      <th>2019-01-01 00:30:00+00:00</th>\n",
       "      <td>145.078546</td>\n",
       "      <td>145.078546</td>\n",
       "      <td>-55.078546</td>\n",
       "      <td>-55.078546</td>\n",
       "      <td>31.493630</td>\n",
       "      <td>-3.205782</td>\n",
       "    </tr>\n",
       "    <tr>\n",
       "      <th>2019-01-01 00:45:00+00:00</th>\n",
       "      <td>143.866070</td>\n",
       "      <td>143.866070</td>\n",
       "      <td>-53.866070</td>\n",
       "      <td>-53.866070</td>\n",
       "      <td>37.053369</td>\n",
       "      <td>-3.210734</td>\n",
       "    </tr>\n",
       "    <tr>\n",
       "      <th>2019-01-01 01:00:00+00:00</th>\n",
       "      <td>142.491152</td>\n",
       "      <td>142.491152</td>\n",
       "      <td>-52.491152</td>\n",
       "      <td>-52.491152</td>\n",
       "      <td>42.334286</td>\n",
       "      <td>-3.215687</td>\n",
       "    </tr>\n",
       "  </tbody>\n",
       "</table>\n",
       "</div>"
      ],
      "text/plain": [
       "                           apparent_zenith      zenith  apparent_elevation  \\\n",
       "2019-01-01 00:00:00+00:00       146.937480  146.937480          -56.937480   \n",
       "2019-01-01 00:15:00+00:00       146.108706  146.108706          -56.108706   \n",
       "2019-01-01 00:30:00+00:00       145.078546  145.078546          -55.078546   \n",
       "2019-01-01 00:45:00+00:00       143.866070  143.866070          -53.866070   \n",
       "2019-01-01 01:00:00+00:00       142.491152  142.491152          -52.491152   \n",
       "\n",
       "                           elevation    azimuth  equation_of_time  \n",
       "2019-01-01 00:00:00+00:00 -56.937480  19.592191         -3.195874  \n",
       "2019-01-01 00:15:00+00:00 -56.108706  25.665116         -3.200828  \n",
       "2019-01-01 00:30:00+00:00 -55.078546  31.493630         -3.205782  \n",
       "2019-01-01 00:45:00+00:00 -53.866070  37.053369         -3.210734  \n",
       "2019-01-01 01:00:00+00:00 -52.491152  42.334286         -3.215687  "
      ]
     },
     "execution_count": 5,
     "metadata": {},
     "output_type": "execute_result"
    }
   ],
   "source": [
    "df = location.get_solarposition(times)\n",
    "\n",
    "df.head()  # Print the first 5 lines"
   ]
  },
  {
   "cell_type": "markdown",
   "metadata": {},
   "source": [
    "## Define the collector aperture geometry\n",
    "\n",
    "In this step, the solar collector geometry is defined:"
   ]
  },
  {
   "cell_type": "code",
   "execution_count": 6,
   "metadata": {},
   "outputs": [
    {
     "data": {
      "image/svg+xml": [
       "<svg xmlns=\"http://www.w3.org/2000/svg\" xmlns:xlink=\"http://www.w3.org/1999/xlink\" width=\"100.0\" height=\"100.0\" viewBox=\"-3.07638 -1.7653800000000002 6.15276 3.5307600000000003\" preserveAspectRatio=\"xMinYMin meet\"><g transform=\"matrix(1,0,0,-1,0,0.0)\"><path fill-rule=\"evenodd\" fill=\"#66cc99\" stroke=\"#555555\" stroke-width=\"0.12305519999999999\" opacity=\"0.6\" d=\"M 2.8485,-1.5375 L 2.8485,1.5375 L -2.8485,1.5375 L -2.8485,-1.5375 L 2.8485,-1.5375 z\" /></g></svg>"
      ],
      "text/plain": [
       "<shapely.geometry.polygon.Polygon at 0x1f45946bb20>"
      ]
     },
     "execution_count": 6,
     "metadata": {},
     "output_type": "execute_result"
    }
   ],
   "source": [
    "# Change these parameters to suit your particular collector aperture\n",
    "collector_width = 5.697\n",
    "collector_height = 3.075\n",
    "\n",
    "collector_geometry = geometry.box(\n",
    "    -collector_width/2,  # left x-coordinate\n",
    "    -collector_height/2,  # bottom y-coordinate\n",
    "    collector_width/2,  # top y-coordinate\n",
    "    collector_height/2)  # right x-coordinate\n",
    "\n",
    "# Example of how to define a circular collector aperture\n",
    "# centered at the origin (0,0) with a radius of 2\n",
    "# collector_geometry = geometry.Point(0,0).buffer(2)\n",
    "\n",
    "collector_geometry"
   ]
  },
  {
   "cell_type": "markdown",
   "metadata": {},
   "source": [
    "Note, the absolute dimensions do not matter, as the GCR scales the distance between collectors according to the collector area.\n",
    "\n",
    "<br>\n",
    "\n",
    "Derive properties from the defined collector geometry:"
   ]
  },
  {
   "cell_type": "code",
   "execution_count": 7,
   "metadata": {},
   "outputs": [
    {
     "name": "stdout",
     "output_type": "stream",
     "text": [
      "Collector area: 17.5\n",
      "Collector L_min: 6.47\n"
     ]
    }
   ],
   "source": [
    "collector_area = collector_geometry.area\n",
    "L_min = 2*collector_geometry.hausdorff_distance(geometry.Point(0, 0))\n",
    "\n",
    "print(\"Collector area: %2.1f\"% collector_area)\n",
    "print(\"Collector L_min: %1.2f\"% L_min)"
   ]
  },
  {
   "cell_type": "markdown",
   "metadata": {},
   "source": [
    "## Field layout definition\n",
    "\n",
    "Once the colelctor aperture has been determined, the following step is to define the field layout. It is important to specify the ground cover ratio (GCR), which is the ratio of the collector are to the ground area.\n",
    "\n",
    "#### Neighbor oder\n",
    "The nighbor order determines how many collectors to take into account, for a neighbor order of 1 the immidiate 8 collectors are considered, whereas for a neighbor order of 2, 24 shading collector are considered. It is recommended to use a neighbor order of 2.\n",
    "\n",
    "#### Standard vs. custom field layouts\n",
    "It is possible to choose from four different standard field layouts: `square`, `diagonal`, `hexagon_e_w`, and `hexagon_n_s`.\n",
    "\n",
    "It is also possible to specify a custom layout using the keywords: `aspect ratio`, `offset`, `rotation`, and `gcr`. For documentation of the layout parameters, see the paper by [Cumpston and Pye (2014)](https://doi.org/10.1016/j.solener.2014.06.012) or check out the function documentation."
   ]
  },
  {
   "cell_type": "code",
   "execution_count": 8,
   "metadata": {},
   "outputs": [
    {
     "data": {
      "image/png": "[encoded data removed]",
      "text/plain": [
       "<Figure size 432x432 with 1 Axes>"
      ]
     },
     "metadata": {
      "needs_background": "light"
     },
     "output_type": "display_data"
    }
   ],
   "source": [
    "X, Y, tracker_distance, relative_azimuth = \\\n",
    "    shading.generate_field_layout(\n",
    "        gcr=0.3,  # Change this parameter according to your desired collector density\n",
    "        neighbor_order=2,\n",
    "        layout_type='square',\n",
    "        L_min=L_min,  # calculated from collector geometry - do not change\n",
    "        collector_area=collector_area,  # calculated from collector geometry - do not change\n",
    "        plot=True)"
   ]
  },
  {
   "cell_type": "markdown",
   "metadata": {},
   "source": [
    "## Calculate shading fraction\n",
    "\n",
    "Now that all collector geometry and field layout have been defined, it is time to do the actual shading calculations. This step might take some time (5 sec. - 3 min.) depdening on the time step and neighbor order."
   ]
  },
  {
   "cell_type": "code",
   "execution_count": 9,
   "metadata": {},
   "outputs": [
    {
     "name": "stdout",
     "output_type": "stream",
     "text": [
      "Wall time: 10.9 s\n"
     ]
    }
   ],
   "source": [
    "%%time\n",
    "df['shading_fraction'] = \\\n",
    "    df.apply(lambda x: shading.two_axis_shading_fraction(\n",
    "    solar_azimuth=x['azimuth'],\n",
    "    solar_elevation=x['elevation'],\n",
    "    collector_geometry=collector_geometry,\n",
    "    tracker_distance=tracker_distance,\n",
    "    relative_azimuth=relative_azimuth,\n",
    "    L_min=L_min,\n",
    "    plot=False),\n",
    "             axis=1)"
   ]
  },
  {
   "cell_type": "markdown",
   "metadata": {},
   "source": [
    "## Visualize the shading fraction\n",
    "\n",
    "Plot the shading fraction for one example day:"
   ]
  },
  {
   "cell_type": "code",
   "execution_count": 10,
   "metadata": {},
   "outputs": [
    {
     "data": {
      "text/plain": [
       "array([<AxesSubplot:>, <AxesSubplot:>], dtype=object)"
      ]
     },
     "execution_count": 10,
     "metadata": {},
     "output_type": "execute_result"
    },
    {
     "data": {
      "image/png": "[encoded data removed]",
      "text/plain": [
       "<Figure size 432x288 with 2 Axes>"
      ]
     },
     "metadata": {
      "needs_background": "light"
     },
     "output_type": "display_data"
    }
   ],
   "source": [
    "df[['shading_fraction','elevation']].iloc[:96].plot(subplots=True)"
   ]
  },
  {
   "cell_type": "markdown",
   "metadata": {},
   "source": [
    "<br>\n",
    "\n",
    "Visualize the average daily shading fraction:"
   ]
  },
  {
   "cell_type": "code",
   "execution_count": 11,
   "metadata": {},
   "outputs": [
    {
     "data": {
      "text/plain": [
       "<AxesSubplot:>"
      ]
     },
     "execution_count": 11,
     "metadata": {},
     "output_type": "execute_result"
    },
    {
     "data": {
      "image/png": "[encoded data removed]",
      "text/plain": [
       "<Figure size 432x288 with 1 Axes>"
      ]
     },
     "metadata": {
      "needs_background": "light"
     },
     "output_type": "display_data"
    }
   ],
   "source": [
    "df['shading_fraction'].resample('1d').mean().plot()"
   ]
  },
  {
   "cell_type": "markdown",
   "metadata": {},
   "source": [
    "Export the shading fraction time series:"
   ]
  },
  {
   "cell_type": "code",
   "execution_count": 12,
   "metadata": {},
   "outputs": [],
   "source": [
    "columns_to_save = ['shading_fraction', 'azimuth', 'apparent_zenith']\n",
    "\n",
    "df.loc[df['shading_fraction'].isna(), 'shading_fraction'] = 1\n",
    "\n",
    "filename = 'test_file.csv'\n",
    "\n",
    "# Export the data to a tab seperated ('\\t') csv file \n",
    "# Represent nan values in shading fraction as 1\n",
    "df[columns_to_save].to_csv(filename, sep='\\t', index=False)"
   ]
  },
  {
   "cell_type": "code",
   "execution_count": null,
   "metadata": {},
   "outputs": [],
   "source": []
  }
 ],
 "metadata": {
  "kernelspec": {
   "display_name": "Python 3",
   "language": "python",
   "name": "python3"
  },
  "language_info": {
   "codemirror_mode": {
    "name": "ipython",
    "version": 3
   },
   "file_extension": ".py",
   "mimetype": "text/x-python",
   "name": "python",
   "nbconvert_exporter": "python",
   "pygments_lexer": "ipython3",
   "version": "3.8.5"
  }
 },
 "nbformat": 4,
 "nbformat_minor": 4
}
