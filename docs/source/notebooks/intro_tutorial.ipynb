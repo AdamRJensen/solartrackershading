{
 "cells": [
  {
   "cell_type": "markdown",
   "metadata": {},
   "source": [
    "# Intro tutorial\n",
    "\n",
    "This document explains how to use the open-source code provided in this repository for calculating self-shading of two-axis tracking solar collectors.\n",
    "\n",
    "Import necessary packages:"
   ]
  },
  {
   "cell_type": "code",
   "execution_count": 1,
   "metadata": {},
   "outputs": [],
   "source": [
    "import pandas as pd\n",
    "# The following libraries are not standard and have to be installed seperately.\n",
    "# It is recommended to install shapely using conda.\n",
    "from shapely import geometry\n",
    "import pvlib\n",
    "import twoaxistracking"
   ]
  },
  {
   "cell_type": "markdown",
   "metadata": {},
   "source": [
    "<br>\n",
    "\n",
    "Now, the first step is to define the location/site for where shading is to be calculated. The location is used to determine the solar position in the next steps."
   ]
  },
  {
   "cell_type": "code",
   "execution_count": 2,
   "metadata": {},
   "outputs": [],
   "source": [
    "location = pvlib.location.Location(latitude=54.9788, longitude=12.2666, altitude=100)"
   ]
  },
  {
   "cell_type": "markdown",
   "metadata": {},
   "source": [
    "<br>\n",
    "\n",
    "The second step involves generating the discrete time-steps for which shading shall be calculated. Generally the time series should cover one year (preferably not a leap year).\n",
    "\n",
    "The most **important parameter is the frequency**, e.g., '1min', '15min', '1hr'.\n",
    "\n",
    "It is also important to set the timezone as this affects the calculation of the solar position. It is recommended to consistently use UTC to avoid mix-ups."
   ]
  },
  {
   "cell_type": "code",
   "execution_count": 3,
   "metadata": {},
   "outputs": [],
   "source": [
    "times = pd.date_range(\n",
    "    start='2019-1-1 00:00',\n",
    "    end='2019-12-31 23:59',\n",
    "    freq='15min',  # Edit the frequecy for a shorter or longer time step\n",
    "    tz='UTC')"
   ]
  },
  {
   "cell_type": "markdown",
   "metadata": {},
   "source": [
    "Next, the solar position is calculated for all of the time time steps using the [`pvlib-python`](https://pvlib-python.readthedocs.io/en/stable/) package:"
   ]
  },
  {
   "cell_type": "code",
   "execution_count": 4,
   "metadata": {},
   "outputs": [
    {
     "data": {
      "text/html": [
       "<div>\n",
       "<style scoped>\n",
       "    .dataframe tbody tr th:only-of-type {\n",
       "        vertical-align: middle;\n",
       "    }\n",
       "\n",
       "    .dataframe tbody tr th {\n",
       "        vertical-align: top;\n",
       "    }\n",
       "\n",
       "    .dataframe thead th {\n",
       "        text-align: right;\n",
       "    }\n",
       "</style>\n",
       "<table border=\"1\" class=\"dataframe\">\n",
       "  <thead>\n",
       "    <tr style=\"text-align: right;\">\n",
       "      <th></th>\n",
       "      <th>apparent_zenith</th>\n",
       "      <th>zenith</th>\n",
       "      <th>apparent_elevation</th>\n",
       "      <th>elevation</th>\n",
       "      <th>azimuth</th>\n",
       "      <th>equation_of_time</th>\n",
       "    </tr>\n",
       "  </thead>\n",
       "  <tbody>\n",
       "    <tr>\n",
       "      <th>2019-01-01 00:00:00+00:00</th>\n",
       "      <td>146.937480</td>\n",
       "      <td>146.937480</td>\n",
       "      <td>-56.937480</td>\n",
       "      <td>-56.937480</td>\n",
       "      <td>19.592191</td>\n",
       "      <td>-3.195874</td>\n",
       "    </tr>\n",
       "    <tr>\n",
       "      <th>2019-01-01 00:15:00+00:00</th>\n",
       "      <td>146.108706</td>\n",
       "      <td>146.108706</td>\n",
       "      <td>-56.108706</td>\n",
       "      <td>-56.108706</td>\n",
       "      <td>25.665116</td>\n",
       "      <td>-3.200828</td>\n",
       "    </tr>\n",
       "    <tr>\n",
       "      <th>2019-01-01 00:30:00+00:00</th>\n",
       "      <td>145.078546</td>\n",
       "      <td>145.078546</td>\n",
       "      <td>-55.078546</td>\n",
       "      <td>-55.078546</td>\n",
       "      <td>31.493630</td>\n",
       "      <td>-3.205782</td>\n",
       "    </tr>\n",
       "    <tr>\n",
       "      <th>2019-01-01 00:45:00+00:00</th>\n",
       "      <td>143.866070</td>\n",
       "      <td>143.866070</td>\n",
       "      <td>-53.866070</td>\n",
       "      <td>-53.866070</td>\n",
       "      <td>37.053369</td>\n",
       "      <td>-3.210734</td>\n",
       "    </tr>\n",
       "    <tr>\n",
       "      <th>2019-01-01 01:00:00+00:00</th>\n",
       "      <td>142.491152</td>\n",
       "      <td>142.491152</td>\n",
       "      <td>-52.491152</td>\n",
       "      <td>-52.491152</td>\n",
       "      <td>42.334286</td>\n",
       "      <td>-3.215687</td>\n",
       "    </tr>\n",
       "  </tbody>\n",
       "</table>\n",
       "</div>"
      ],
      "text/plain": [
       "                           apparent_zenith      zenith  apparent_elevation  \\\n",
       "2019-01-01 00:00:00+00:00       146.937480  146.937480          -56.937480   \n",
       "2019-01-01 00:15:00+00:00       146.108706  146.108706          -56.108706   \n",
       "2019-01-01 00:30:00+00:00       145.078546  145.078546          -55.078546   \n",
       "2019-01-01 00:45:00+00:00       143.866070  143.866070          -53.866070   \n",
       "2019-01-01 01:00:00+00:00       142.491152  142.491152          -52.491152   \n",
       "\n",
       "                           elevation    azimuth  equation_of_time  \n",
       "2019-01-01 00:00:00+00:00 -56.937480  19.592191         -3.195874  \n",
       "2019-01-01 00:15:00+00:00 -56.108706  25.665116         -3.200828  \n",
       "2019-01-01 00:30:00+00:00 -55.078546  31.493630         -3.205782  \n",
       "2019-01-01 00:45:00+00:00 -53.866070  37.053369         -3.210734  \n",
       "2019-01-01 01:00:00+00:00 -52.491152  42.334286         -3.215687  "
      ]
     },
     "execution_count": 4,
     "metadata": {},
     "output_type": "execute_result"
    }
   ],
   "source": [
    "df = location.get_solarposition(times)\n",
    "\n",
    "df.head()  # Show the first 5 lines"
   ]
  },
  {
   "cell_type": "markdown",
   "metadata": {},
   "source": [
    "## Define the collector aperture geometry\n",
    "\n",
    "In this step, the solar collector geometry is defined:"
   ]
  },
  {
   "cell_type": "code",
   "execution_count": 5,
   "metadata": {},
   "outputs": [
    {
     "data": {
      "image/svg+xml": [
       "<svg xmlns=\"http://www.w3.org/2000/svg\" xmlns:xlink=\"http://www.w3.org/1999/xlink\" width=\"100.0\" height=\"100.0\" viewBox=\"-3.07638 -1.7653800000000002 6.15276 3.5307600000000003\" preserveAspectRatio=\"xMinYMin meet\"><g transform=\"matrix(1,0,0,-1,0,0.0)\"><path fill-rule=\"evenodd\" fill=\"#66cc99\" stroke=\"#555555\" stroke-width=\"0.12305519999999999\" opacity=\"0.6\" d=\"M 2.8485,-1.5375 L 2.8485,1.5375 L -2.8485,1.5375 L -2.8485,-1.5375 L 2.8485,-1.5375 z\" /></g></svg>"
      ],
      "text/plain": [
       "<shapely.geometry.polygon.Polygon at 0x28d6f9098c8>"
      ]
     },
     "execution_count": 5,
     "metadata": {},
     "output_type": "execute_result"
    }
   ],
   "source": [
    "# Change these parameters to suit your particular collector aperture\n",
    "collector_width = 5.697\n",
    "collector_height = 3.075\n",
    "\n",
    "collector_geometry = geometry.box(\n",
    "    -collector_width/2,  # left x-coordinate\n",
    "    -collector_height/2,  # bottom y-coordinate\n",
    "    collector_width/2,  # top y-coordinate\n",
    "    collector_height/2)  # right x-coordinate\n",
    "\n",
    "collector_geometry"
   ]
  },
  {
   "cell_type": "markdown",
   "metadata": {},
   "source": [
    "Similarly, a cirular geometry can be defined as:"
   ]
  },
  {
   "cell_type": "code",
   "execution_count": 6,
   "metadata": {},
   "outputs": [
    {
     "data": {
      "image/svg+xml": [
       "<svg xmlns=\"http://www.w3.org/2000/svg\" xmlns:xlink=\"http://www.w3.org/1999/xlink\" width=\"100.0\" height=\"100.0\" viewBox=\"-2.16 -2.16 4.32 4.32\" preserveAspectRatio=\"xMinYMin meet\"><g transform=\"matrix(1,0,0,-1,0,0.0)\"><path fill-rule=\"evenodd\" fill=\"#66cc99\" stroke=\"#555555\" stroke-width=\"0.0864\" opacity=\"0.6\" d=\"M 2.0,0.0 L 1.9903694533443939,-0.196034280659121 L 1.961570560806461,-0.39018064403225616 L 1.9138806714644179,-0.5805693545089242 L 1.847759065022574,-0.7653668647301788 L 1.7638425286967105,-0.9427934736519944 L 1.6629392246050911,-1.1111404660392035 L 1.5460209067254749,-1.2687865683272899 L 1.4142135623730963,-1.4142135623730938 L 1.2687865683272923,-1.5460209067254727 L 1.1111404660392061,-1.6629392246050894 L 0.9427934736519972,-1.763842528696709 L 0.7653668647301817,-1.8477590650225726 L 0.5805693545089272,-1.913880671464417 L 0.39018064403225927,-1.9615705608064604 L 0.19603428065912418,-1.9903694533443934 L 3.2310891488651735e-15,-2.0 L -0.19603428065911777,-1.990369453344394 L -0.39018064403225294,-1.9615705608064615 L -0.580569354508921,-1.913880671464419 L -0.7653668647301757,-1.847759065022575 L -0.9427934736519914,-1.763842528696712 L -1.111140466039201,-1.6629392246050927 L -1.2687865683272879,-1.5460209067254764 L -1.4142135623730925,-1.4142135623730978 L -1.5460209067254718,-1.2687865683272936 L -1.6629392246050887,-1.1111404660392072 L -1.7638425286967085,-0.9427934736519981 L -1.8477590650225724,-0.7653668647301822 L -1.913880671464417,-0.5805693545089273 L -1.9615705608064604,-0.39018064403225894 L -1.9903694533443936,-0.19603428065912343 L -2.0,-2.021286199229721e-15 L -1.9903694533443939,0.1960342806591194 L -1.9615705608064613,0.390180644032255 L -1.913880671464418,0.5805693545089234 L -1.847759065022574,0.7653668647301785 L -1.7638425286967105,0.9427934736519945 L -1.662939224605091,1.111140466039204 L -1.5460209067254742,1.2687865683272905 L -1.4142135623730954,1.414213562373095 L -1.2687865683272919,1.5460209067254733 L -1.111140466039206,1.6629392246050896 L -0.9427934736519974,1.763842528696709 L -0.7653668647301823,1.8477590650225724 L -0.5805693545089282,1.9138806714644168 L -0.3901806440322608,1.96157056080646 L -0.1960342806591262,1.9903694533443932 L -5.696464557944958e-15,2.0 L 0.19603428065911485,1.9903694533443943 L 0.3901806440322496,1.9615705608064622 L 0.5805693545089173,1.9138806714644199 L 0.7653668647301718,1.8477590650225768 L 0.9427934736519873,1.7638425286967143 L 1.1111404660391964,1.6629392246050958 L 1.268786568327283,1.5460209067254804 L 1.4142135623730872,1.414213562373103 L 1.5460209067254664,1.2687865683273 L 1.6629392246050836,1.1111404660392148 L 1.7638425286967039,0.9427934736520068 L 1.8477590650225681,0.7653668647301923 L 1.9138806714644134,0.5805693545089385 L 1.961570560806458,0.3901806440322714 L 1.9903694533443923,0.19603428065913694 L 2.0,1.6477070274261195e-14 L 2.0,0.0 z\" /></g></svg>"
      ],
      "text/plain": [
       "<shapely.geometry.polygon.Polygon at 0x28d70be5548>"
      ]
     },
     "execution_count": 6,
     "metadata": {},
     "output_type": "execute_result"
    }
   ],
   "source": [
    "radius = 2\n",
    "circular_collector = geometry.Point(0, 0).buffer(radius)\n",
    "circular_collector"
   ]
  },
  {
   "cell_type": "markdown",
   "metadata": {},
   "source": [
    "<br>\n",
    "\n",
    "Note, the absolute dimensions do not matter, as the GCR parameter scales the distance between collectors according to the collector area.\n",
    "\n",
    "<br>\n",
    "\n",
    "Derive properties from the collector geometry:"
   ]
  },
  {
   "cell_type": "code",
   "execution_count": 7,
   "metadata": {},
   "outputs": [
    {
     "name": "stdout",
     "output_type": "stream",
     "text": [
      "Collector area: 17.5\n",
      "Collector L_min: 6.47\n"
     ]
    }
   ],
   "source": [
    "collector_area = collector_geometry.area\n",
    "# Calculate the miminum distance between collectors\n",
    "# Note, L_min is also referred to as D_min by some authors\n",
    "L_min = 2 * collector_geometry.hausdorff_distance(geometry.Point(0, 0))\n",
    "\n",
    "print(\"Collector area: %2.1f\"% collector_area)\n",
    "print(\"Collector L_min: %1.2f\"% L_min)"
   ]
  },
  {
   "cell_type": "markdown",
   "metadata": {},
   "source": [
    "## Field layout definition\n",
    "\n",
    "Once the collector aperture has been determined, the field layout can be defined. It is important to specify the ground cover ratio (GCR), which is the ratio of the collector are to the ground area.\n",
    "\n",
    "### Neighbor orderder\n",
    "The neighbor order determines how many collectors to take into account - for a neighbor order of 1 the immidiate 8 collectors are considered, whereas for a neighbor order of 2, 24 shading collectors are considered. It is recommended to use atleast a neighbor order of 2.\n",
    "\n",
    "### Standard vs. custom field layouts\n",
    "It is possible to choose from four different standard field layouts: `square`, `diagonal`, `hexagon_e_w`, and `hexagon_n_s`.\n",
    "\n",
    "It is also possible to specify a custom layout using the keywords: `aspect ratio`, `offset`, `rotation`, and `gcr`. For a description of the layout parameters, see the paper by [Cumpston and Pye (2014)](https://doi.org/10.1016/j.solener.2014.06.012) or check out the function documentation."
   ]
  },
  {
   "cell_type": "code",
   "execution_count": 15,
   "metadata": {},
   "outputs": [
    {
     "data": {
      "image/png": "[encoded data removed]",
      "text/plain": [
       "<Figure size 432x432 with 1 Axes>"
      ]
     },
     "metadata": {
      "needs_background": "light"
     },
     "output_type": "display_data"
    }
   ],
   "source": [
    "X, Y, tracker_distance, relative_azimuth = \\\n",
    "    twoaxistracking.generate_field_layout(\n",
    "        gcr=0.3,  # Change this parameter according to your desired density of collectors\n",
    "        neighbor_order=2,\n",
    "        layout_type='square',\n",
    "        L_min=L_min,  # calculated from collector geometry - do not change\n",
    "        collector_area=collector_area,  # calculated from collector geometry - do not change\n",
    "        plot=True)"
   ]
  },
  {
   "cell_type": "markdown",
   "metadata": {},
   "source": [
    "## Calculate shading fraction\n",
    "\n",
    "Now that the collector geometry and field layout have been defined, it is time to do the actual shading calculations. This step is relatively computational intensive and is mainly affected by the time step, neighbor order, and computational resources available. Typical run times vary between 5 s and 3 min."
   ]
  },
  {
   "cell_type": "code",
   "execution_count": 17,
   "metadata": {},
   "outputs": [
    {
     "name": "stdout",
     "output_type": "stream",
     "text": [
      "Wall time: 24.4 s\n"
     ]
    }
   ],
   "source": [
    "%%time\n",
    "df['shading_fraction'] = \\\n",
    "    df.apply(lambda x: twoaxistracking.shading_fraction(\n",
    "    solar_azimuth=x['azimuth'],\n",
    "    solar_elevation=x['elevation'],\n",
    "    collector_geometry=collector_geometry,\n",
    "    tracker_distance=tracker_distance,\n",
    "    relative_azimuth=relative_azimuth,\n",
    "    L_min=L_min,\n",
    "    plot=False),\n",
    "             axis=1)"
   ]
  },
  {
   "cell_type": "markdown",
   "metadata": {},
   "source": [
    "## Visualize the shading fraction\n",
    "\n",
    "Plot the shading fraction for one example day:"
   ]
  },
  {
   "cell_type": "code",
   "execution_count": 18,
   "metadata": {},
   "outputs": [
    {
     "data": {
      "image/png": "[encoded data removed]",
      "text/plain": [
       "<Figure size 432x288 with 2 Axes>"
      ]
     },
     "metadata": {
      "needs_background": "light"
     },
     "output_type": "display_data"
    }
   ],
   "source": [
    "axes = df.loc['2019-06-28':'2019-06-28', ['shading_fraction','elevation']].plot(subplots=True, ylim=[0,None])"
   ]
  },
  {
   "cell_type": "markdown",
   "metadata": {},
   "source": [
    "<br>\n",
    "\n",
    "Visualize the average daily shading fraction:"
   ]
  },
  {
   "cell_type": "code",
   "execution_count": 19,
   "metadata": {},
   "outputs": [
    {
     "data": {
      "text/plain": [
       "<AxesSubplot:>"
      ]
     },
     "execution_count": 19,
     "metadata": {},
     "output_type": "execute_result"
    },
    {
     "data": {
      "image/png": "[encoded data removed]",
      "text/plain": [
       "<Figure size 432x288 with 1 Axes>"
      ]
     },
     "metadata": {
      "needs_background": "light"
     },
     "output_type": "display_data"
    }
   ],
   "source": [
    "df['shading_fraction'].resample('1d').mean().plot()"
   ]
  }
 ],
 "metadata": {
  "kernelspec": {
   "display_name": "Python 3 (ipykernel)",
   "language": "python",
   "name": "python3"
  },
  "language_info": {
   "codemirror_mode": {
    "name": "ipython",
    "version": 3
   },
   "file_extension": ".py",
   "mimetype": "text/x-python",
   "name": "python",
   "nbconvert_exporter": "python",
   "pygments_lexer": "ipython3",
   "version": "3.7.11"
  }
 },
 "nbformat": 4,
 "nbformat_minor": 4
}
